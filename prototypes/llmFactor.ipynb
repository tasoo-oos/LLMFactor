{
 "cells": [
  {
   "cell_type": "code",
   "id": "64dbf62a-5086-4e6e-a162-56ccd14b1a88",
   "metadata": {
    "ExecuteTime": {
     "end_time": "2025-01-18T14:00:52.744334Z",
     "start_time": "2025-01-18T14:00:52.741689Z"
    }
   },
   "source": [
    "from llmfactor import LLMFactorAnalyzer, LoggerSingleton\n",
    "import re"
   ],
   "outputs": [],
   "execution_count": 9
  },
  {
   "cell_type": "code",
   "id": "eb1a5125-7776-45e4-84f2-1b6d0bb3000d",
   "metadata": {
    "ExecuteTime": {
     "end_time": "2025-01-18T14:00:52.772140Z",
     "start_time": "2025-01-18T14:00:52.748092Z"
    }
   },
   "source": [
    "analyzer = LLMFactorAnalyzer(\n",
    "    base_url=\"http://localhost:5678/v1\",\n",
    "    api_key=\"token-abc123\",\n",
    "    model=\"./models/llama-3.1-8B-instruct-Q8_0.gguf\",\n",
    "    logger=LoggerSingleton.get_logger())\n",
    "client = analyzer.client"
   ],
   "outputs": [],
   "execution_count": 10
  },
  {
   "cell_type": "code",
   "id": "8a957cc2-be2e-4303-b8c1-88c6f9ca9cfd",
   "metadata": {
    "ExecuteTime": {
     "end_time": "2025-01-18T14:00:53.133319Z",
     "start_time": "2025-01-18T14:00:52.778914Z"
    }
   },
   "source": [
    "tickers = analyzer.get_available_tickers()\n",
    "ticker = tickers[0]\n",
    "stock_target = ticker\n",
    "\n",
    "factor_k = 5\n",
    "price_k = 5\n",
    "\n",
    "dates = analyzer.get_available_dates(ticker, price_k)\n",
    "target_date = dates[8]\n",
    "\n",
    "news_str = analyzer.news_data.get_news_by_date(ticker, target_date)\n",
    "price_movements = analyzer.price_data.get_price_movements(ticker, target_date, price_k)\n",
    "price_str, price_str_last = analyzer.format_price_movements(price_movements, ticker, target_date)"
   ],
   "outputs": [],
   "execution_count": 11
  },
  {
   "metadata": {
    "ExecuteTime": {
     "end_time": "2025-01-18T14:00:53.141019Z",
     "start_time": "2025-01-18T14:00:53.138875Z"
    }
   },
   "cell_type": "code",
   "source": "print(price_str + price_str_last)",
   "id": "dba51214b74ae644",
   "outputs": [
    {
     "name": "stdout",
     "output_type": "stream",
     "text": [
      "On 2018-01-16, the stock price of AAPL fell.\n",
      "On 2018-01-17, the stock price of AAPL rose.\n",
      "On 2018-01-18, the stock price of AAPL rose.\n",
      "On 2018-01-19, the stock price of AAPL fell.\n",
      "On 2018-01-22, the stock price of AAPL\n"
     ]
    }
   ],
   "execution_count": 12
  },
  {
   "metadata": {
    "ExecuteTime": {
     "end_time": "2025-01-18T14:00:53.148775Z",
     "start_time": "2025-01-18T14:00:53.146366Z"
    }
   },
   "cell_type": "code",
   "source": "print(*price_movements, sep=\"\\n\")",
   "id": "3ee51ff1b28db947",
   "outputs": [
    {
     "name": "stdout",
     "output_type": "stream",
     "text": [
      "{'date': Timestamp('2018-01-16 00:00:00'), 'rise': False}\n",
      "{'date': Timestamp('2018-01-17 00:00:00'), 'rise': True}\n",
      "{'date': Timestamp('2018-01-18 00:00:00'), 'rise': True}\n",
      "{'date': Timestamp('2018-01-19 00:00:00'), 'rise': False}\n",
      "{'date': Timestamp('2018-01-22 00:00:00'), 'rise': False}\n"
     ]
    }
   ],
   "execution_count": 13
  },
  {
   "metadata": {
    "ExecuteTime": {
     "end_time": "2025-01-18T14:00:53.156746Z",
     "start_time": "2025-01-18T14:00:53.154183Z"
    }
   },
   "cell_type": "code",
   "source": "print(len(news_str))",
   "id": "a3b58026bdd8d9c3",
   "outputs": [
    {
     "name": "stdout",
     "output_type": "stream",
     "text": [
      "19793\n"
     ]
    }
   ],
   "execution_count": 14
  },
  {
   "metadata": {
    "ExecuteTime": {
     "end_time": "2025-01-18T14:00:53.168618Z",
     "start_time": "2025-01-18T14:00:53.165872Z"
    }
   },
   "cell_type": "code",
   "source": [
    "def extract_factors(text):\n",
    "    # Pattern to match numbered items with their descriptions\n",
    "    # Looks for: number, dot, colon, and remaining text\n",
    "    pattern = r'\\d+\\.[^:]+:\\s+([^\\n]+)'\n",
    "\n",
    "    # Find all matches in the text\n",
    "    matches = re.finditer(pattern, text)\n",
    "\n",
    "    # Create a dictionary to store factors with their descriptions\n",
    "    result_str = \"\"\n",
    "\n",
    "    for match in matches:\n",
    "        result_str += match.group(0) + \"\\n\"\n",
    "\n",
    "    return result_str[:-1]"
   ],
   "id": "704eaa9739ed6727",
   "outputs": [],
   "execution_count": 15
  },
  {
   "cell_type": "code",
   "id": "9f09bcd5-d1a1-446c-9d07-a1a2216205c1",
   "metadata": {
    "ExecuteTime": {
     "end_time": "2025-01-18T14:00:56.850736Z",
     "start_time": "2025-01-18T14:00:53.213500Z"
    }
   },
   "source": [
    "factor_extraction = analyzer.client.chat.completions.create(\n",
    "    model=analyzer.model,\n",
    "    temperature=0,\n",
    "    max_tokens=factor_k * 200,\n",
    "    logprobs=5,\n",
    "    messages=[\n",
    "        {\"role\": \"system\", \"content\": f\"Please extract the top {factor_k} factors that may affect the stock price of {ticker} from the following news.\"},\n",
    "        {\"role\": \"user\", \"content\": \"# news list\\n\\n\" + news_str},\n",
    "        {\"role\": \"user\", \"content\": f\"Now, tell me. What are the {factor_k} most influential market drivers for {ticker} based on recent news? Write your answer with following format:\\n\" + \"\".join([f\"\\n{i}.\" for i in range(1, factor_k + 1)])},\n",
    "    ])\n",
    "\n",
    "factor_str = factor_extraction.choices[0].message.content\n",
    "factors = extract_factors(factor_str)\n",
    "\n",
    "print(\"```\")\n",
    "print(factor_str)\n",
    "print(\"```\")\n",
    "print()\n",
    "print(\"```\")\n",
    "print(factors)\n",
    "print(\"```\")"
   ],
   "outputs": [
    {
     "name": "stdout",
     "output_type": "stream",
     "text": [
      "```\n",
      "Based on recent news, here are the 5 most influential market drivers for AAPL:\n",
      "\n",
      "1. **iPhone X Production Cuts**: Speculation that Apple may cut back production of the high-end iPhone X has been weighing on the stock. This has led to a sell-off in optical component makers such as Lumentum, Finisar, and II-VI.\n",
      "2. **Tax Reform**: Apple's plans to bring back the $250 billion in cash reserves it holds overseas is expected to benefit stakeholders, but the company's tax strategy and potential changes to its cash repatriation plans are being closely watched.\n",
      "3. **HomePod and Smart Speaker Market**: Apple's HomePod, a smart speaker integrated with Siri, is expected to hit the shelves in February. The company's entry into the smart speaker market is seen as a key opportunity for growth, but it also faces stiff competition from Amazon and Google.\n",
      "4. **Education Initiatives**: Apple's partnership with Malala Yousafzai to educate 100,000 girls and its plans to support global education initiatives are seen as a positive development for the company's brand and reputation.\n",
      "5. **Supply Chain and Component Costs**: The recent downgrades of Apple's suppliers, such as Lumentum and Finisar, due to concerns over iPhone X production cuts and component costs, are also influencing the stock's performance.\n",
      "```\n",
      "\n",
      "```\n",
      "1. **iPhone X Production Cuts**: Speculation that Apple may cut back production of the high-end iPhone X has been weighing on the stock. This has led to a sell-off in optical component makers such as Lumentum, Finisar, and II-VI.\n",
      "2. **Tax Reform**: Apple's plans to bring back the $250 billion in cash reserves it holds overseas is expected to benefit stakeholders, but the company's tax strategy and potential changes to its cash repatriation plans are being closely watched.\n",
      "3. **HomePod and Smart Speaker Market**: Apple's HomePod, a smart speaker integrated with Siri, is expected to hit the shelves in February. The company's entry into the smart speaker market is seen as a key opportunity for growth, but it also faces stiff competition from Amazon and Google.\n",
      "4. **Education Initiatives**: Apple's partnership with Malala Yousafzai to educate 100,000 girls and its plans to support global education initiatives are seen as a positive development for the company's brand and reputation.\n",
      "5. **Supply Chain and Component Costs**: The recent downgrades of Apple's suppliers, such as Lumentum and Finisar, due to concerns over iPhone X production cuts and component costs, are also influencing the stock's performance.\n",
      "```\n"
     ]
    }
   ],
   "execution_count": 16
  },
  {
   "metadata": {},
   "cell_type": "code",
   "outputs": [],
   "execution_count": null,
   "source": [
    "factor_inverse = analyzer.client.chat.completions.create(\n",
    "    model=analyzer.model,\n",
    "    temperature=0,\n",
    "    messages=[\n",
    "        {\"role\": \"system\",\n",
    "         \"content\": f\"You are a playful assistant, saying opposite situation of the given statement by user. Your goal is to write the opposite situation of each given statement.\"},\n",
    "        {\"role\": \"user\", \"content\": factors}\n",
    "    ]\n",
    ")\n",
    "\n",
    "'''\n",
    " \"content\": f\"You are a playful assistant, saying opposite situation of the given statement by user. Your goal is to sneakily blend the opposite situation of the given statement.\"\n",
    "'''\n",
    "\n",
    "factor_str = factor_inverse.choices[0].message.content\n",
    "factors = extract_factors(factor_str)\n",
    "\n",
    "print(\"```\")\n",
    "print(factor_str)\n",
    "print(\"```\")\n",
    "print()\n",
    "print(\"```\")\n",
    "print(factors)\n",
    "print(\"```\")"
   ],
   "id": "13c01f745e7be377"
  },
  {
   "metadata": {
    "ExecuteTime": {
     "end_time": "2025-01-18T14:01:13.922333Z",
     "start_time": "2025-01-18T14:01:11.736499Z"
    }
   },
   "cell_type": "code",
   "source": [
    "answer_extraction = analyzer.client.chat.completions.create(\n",
    "    model=analyzer.model,\n",
    "    temperature=0,\n",
    "    messages=[\n",
    "        {\"role\": \"system\", \"content\": \"Based on the following information, please judge the direction of the stock price from rise/fall, fill in the blank and give reasons.\"},\n",
    "        {\"role\": \"system\", \"content\": f\"These are the main factors that may affect this stock’s price recently:\\n{factors}.\"},\n",
    "        {\"role\": \"system\", \"content\": price_str},\n",
    "        {\"role\": \"assistant\", \"content\": price_str_last},\n",
    "    ]\n",
    ")\n",
    "\n",
    "answer = answer_extraction.choices[0].message.content\n",
    "print(answer)"
   ],
   "id": "acc69ced8459f3d8",
   "outputs": [
    {
     "name": "stdout",
     "output_type": "stream",
     "text": [
      "Based on the given information, I would predict that the stock price of AAPL on 2018-01-22 will **fall**.\n",
      "\n",
      "Reasons:\n",
      "\n",
      "* The recent downgrades of Apple's suppliers, such as Lumentum and Finisar, due to concerns over iPhone X production cuts and component costs, are likely to continue to weigh on the stock.\n",
      "* The uncertainty surrounding Apple's tax strategy and potential changes to its cash repatriation plans may also contribute to a decline in the stock price.\n",
      "* The competition in the smart speaker market, where Apple's HomePod is expected to launch, may also lead to a decline in the stock price if the product does not meet expectations.\n",
      "\n",
      "Overall, the negative factors mentioned in the information seem to outweigh the positive ones, leading me to predict a decline in the stock price.\n"
     ]
    }
   ],
   "execution_count": 18
  },
  {
   "metadata": {},
   "cell_type": "code",
   "outputs": [],
   "execution_count": null,
   "source": "",
   "id": "11152de32feeba97"
  }
 ],
 "metadata": {
  "kernelspec": {
   "display_name": "Python 3 (ipykernel)",
   "language": "python",
   "name": "python3"
  },
  "language_info": {
   "codemirror_mode": {
    "name": "ipython",
    "version": 3
   },
   "file_extension": ".py",
   "mimetype": "text/x-python",
   "name": "python",
   "nbconvert_exporter": "python",
   "pygments_lexer": "ipython3",
   "version": "3.12.8"
  }
 },
 "nbformat": 4,
 "nbformat_minor": 5
}
