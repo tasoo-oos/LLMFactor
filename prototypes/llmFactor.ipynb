{
 "cells": [
  {
   "cell_type": "code",
   "id": "64dbf62a-5086-4e6e-a162-56ccd14b1a88",
   "metadata": {
    "ExecuteTime": {
     "end_time": "2025-01-09T12:37:50.845059Z",
     "start_time": "2025-01-09T12:37:50.842210Z"
    }
   },
   "source": [
    "from openai import OpenAI\n",
    "import pandas as pd\n",
    "from dataset_manager import NewsDataLoader, PriceDataLoader\n",
    "import datetime"
   ],
   "outputs": [],
   "execution_count": 25
  },
  {
   "cell_type": "code",
   "id": "c7e14b3f-5758-41b1-aa31-db04ee08755e",
   "metadata": {
    "ExecuteTime": {
     "end_time": "2025-01-09T12:37:50.867022Z",
     "start_time": "2025-01-09T12:37:50.849070Z"
    }
   },
   "source": [
    "client = OpenAI(\n",
    "    base_url=\"http://localhost:8000/v1\",\n",
    "    api_key=\"token-abc123\",\n",
    ")"
   ],
   "outputs": [],
   "execution_count": 26
  },
  {
   "cell_type": "code",
   "id": "eb1a5125-7776-45e4-84f2-1b6d0bb3000d",
   "metadata": {
    "ExecuteTime": {
     "end_time": "2025-01-09T12:37:50.888317Z",
     "start_time": "2025-01-09T12:37:50.874723Z"
    }
   },
   "source": [
    "price_data = PriceDataLoader()\n",
    "news_data = NewsDataLoader()"
   ],
   "outputs": [],
   "execution_count": 27
  },
  {
   "cell_type": "code",
   "id": "a24017da-8049-4c45-b14e-63c21c9375d3",
   "metadata": {
    "ExecuteTime": {
     "end_time": "2025-01-09T12:37:50.899125Z",
     "start_time": "2025-01-09T12:37:50.896067Z"
    }
   },
   "source": [
    "tickers = sorted(tuple(set(price_data.get_available_tickers()).intersection(set(news_data.get_available_tickers()))))"
   ],
   "outputs": [],
   "execution_count": 28
  },
  {
   "cell_type": "code",
   "id": "8a957cc2-be2e-4303-b8c1-88c6f9ca9cfd",
   "metadata": {
    "ExecuteTime": {
     "end_time": "2025-01-09T12:37:51.326800Z",
     "start_time": "2025-01-09T12:37:50.905765Z"
    }
   },
   "source": [
    "ticker = tickers[0]\n",
    "stock_target = ticker\n",
    "\n",
    "factor_k = 5\n",
    "price_k = 5\n",
    "\n",
    "dates = sorted(set(price_data.get_available_dates(ticker, price_k)).intersection(set(news_data.get_available_dates(ticker))))\n",
    "target_date = dates[1]"
   ],
   "outputs": [],
   "execution_count": 29
  },
  {
   "cell_type": "code",
   "id": "97921f70-5a78-4571-9290-37b742c0296c",
   "metadata": {
    "ExecuteTime": {
     "end_time": "2025-01-09T12:37:51.336759Z",
     "start_time": "2025-01-09T12:37:51.333210Z"
    }
   },
   "source": [
    "target_date"
   ],
   "outputs": [
    {
     "data": {
      "text/plain": [
       "Timestamp('2018-01-10 00:00:00')"
      ]
     },
     "execution_count": 30,
     "metadata": {},
     "output_type": "execute_result"
    }
   ],
   "execution_count": 30
  },
  {
   "cell_type": "code",
   "id": "7ad4109f-9cde-4b9b-9fa2-a249e9056622",
   "metadata": {
    "ExecuteTime": {
     "end_time": "2025-01-09T12:37:51.350734Z",
     "start_time": "2025-01-09T12:37:51.344271Z"
    }
   },
   "source": [
    "news_str = news_data.get_news_by_date(ticker, target_date)\n",
    "price_movements = price_data.get_price_movements(ticker, target_date, price_k)"
   ],
   "outputs": [],
   "execution_count": 31
  },
  {
   "cell_type": "code",
   "id": "a79dc294-880b-40bf-b1a9-c6cd0db42d73",
   "metadata": {
    "ExecuteTime": {
     "end_time": "2025-01-09T12:37:51.360687Z",
     "start_time": "2025-01-09T12:37:51.357206Z"
    }
   },
   "source": [
    "price_movements"
   ],
   "outputs": [
    {
     "data": {
      "text/plain": [
       "[{'date': Timestamp('2018-01-04 00:00:00'), 'rise': True},\n",
       " {'date': Timestamp('2018-01-05 00:00:00'), 'rise': True},\n",
       " {'date': Timestamp('2018-01-08 00:00:00'), 'rise': False},\n",
       " {'date': Timestamp('2018-01-09 00:00:00'), 'rise': False},\n",
       " {'date': Timestamp('2018-01-10 00:00:00'), 'rise': False}]"
      ]
     },
     "execution_count": 32,
     "metadata": {},
     "output_type": "execute_result"
    }
   ],
   "execution_count": 32
  },
  {
   "cell_type": "code",
   "id": "645b0a3d-e9c3-4996-a102-16898cbad8e4",
   "metadata": {
    "ExecuteTime": {
     "end_time": "2025-01-09T12:38:01.368363Z",
     "start_time": "2025-01-09T12:37:51.367052Z"
    }
   },
   "source": [
    "# Format price movement data\n",
    "historical_price_str_format = \"On {date}, the stock price of {stock_target} {risefall}.\\n\"\n",
    "today_price_str_format = \"On {date}, the stock price of {stock_target} will ____.\\n\"\n",
    "price_str = \"\"\n",
    "for move in price_movements[:-1]:\n",
    "    price_str += historical_price_str_format.format(date=move['date'].strftime('%Y-%m-%d'), stock_target=stock_target, risefall=\"rose\" if move['rise'] else \"fell\")\n",
    "price_str_assistant = today_price_str_format.format(date=target_date.strftime('%Y-%m-%d'), stock_target=stock_target)\n",
    "\n",
    "# Extract \n",
    "factor_extraction = client.chat.completions.create(\n",
    "  model=\"meta-llama/Llama-3.2-3B-Instruct\",\n",
    "  temperature=0,\n",
    "  messages=[\n",
    "    {\"role\": \"system\", \"content\": f\"Please extract the top {factor_k} factors that may affect the stock price of {stock_target} from the following news.\"},\n",
    "    {\"role\": \"user\", \"content\": news_str}\n",
    "  ]\n",
    ")\n",
    "\n",
    "factor_str = factor_extraction.choices[0].message.content\n",
    "\n",
    "answer_extraction = client.chat.completions.create(\n",
    "  model=\"meta-llama/Llama-3.2-3B-Instruct\",\n",
    "  temperature=0,\n",
    "  messages=[\n",
    "    {\"role\": \"system\", \"content\": \"Based on the following information, please judge the direction of the stock price from rise/fall, fill in the blank and give reasons.\"},\n",
    "    {\"role\": \"system\", \"content\": f\"These are the main factors that may affect this stock’s price recently: {factor_str}.\"},\n",
    "    {\"role\": \"system\", \"content\": price_str},\n",
    "    {\"role\": \"assistant\", \"content\": price_str_assistant},\n",
    "  ]\n",
    ")\n",
    "\n",
    "answer = answer_extraction.choices[0].message.content"
   ],
   "outputs": [],
   "execution_count": 33
  },
  {
   "cell_type": "code",
   "id": "9f09bcd5-d1a1-446c-9d07-a1a2216205c1",
   "metadata": {
    "ExecuteTime": {
     "end_time": "2025-01-09T12:38:06.251817Z",
     "start_time": "2025-01-09T12:38:06.248357Z"
    }
   },
   "source": "print(answer.split('\\n'))",
   "outputs": [
    {
     "name": "stdout",
     "output_type": "stream",
     "text": [
      "On 2018-01-10, the stock price of AAPL will likely **fall**.  **Reasons:**  1. **Recent Trend**: The stock has shown a downward trend over the past two trading days (2018-01-08 and 2018-01-09), indicating a potential continuation of this trend unless there are significant positive developments.  2. **iPhone Battery Slowdown Controversy**: The ongoing controversy regarding the iPhone battery slowdown could continue to weigh on investor sentiment, as it raises concerns about consumer trust and potential regulatory actions.  3. **China Data Compliance**: The decision to hand over cloud operations in China to a state-owned partner might raise concerns about Apple's control over its data and operations in a crucial market, potentially affecting investor confidence.  4. **Market Sentiment**: The combination of these factors, along with the broader market sentiment, could contribute to continued pressure on the stock price.  While positive developments, such as the strategic acquisition of Shazam, could provide some support, the prevailing negative factors and recent price trend suggest a likelihood of further decline on 2018-01-10.\n"
     ]
    }
   ],
   "execution_count": 35
  },
  {
   "metadata": {
    "ExecuteTime": {
     "end_time": "2025-01-09T12:38:01.386849Z",
     "start_time": "2025-01-09T12:38:01.384777Z"
    }
   },
   "cell_type": "code",
   "source": "",
   "id": "920e678c2f997d30",
   "outputs": [],
   "execution_count": null
  }
 ],
 "metadata": {
  "kernelspec": {
   "display_name": "Python 3 (ipykernel)",
   "language": "python",
   "name": "python3"
  },
  "language_info": {
   "codemirror_mode": {
    "name": "ipython",
    "version": 3
   },
   "file_extension": ".py",
   "mimetype": "text/x-python",
   "name": "python",
   "nbconvert_exporter": "python",
   "pygments_lexer": "ipython3",
   "version": "3.12.8"
  }
 },
 "nbformat": 4,
 "nbformat_minor": 5
}
