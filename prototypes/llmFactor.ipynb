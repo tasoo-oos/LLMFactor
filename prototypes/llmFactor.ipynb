{
 "cells": [
  {
   "cell_type": "code",
   "id": "64dbf62a-5086-4e6e-a162-56ccd14b1a88",
   "metadata": {
    "ExecuteTime": {
     "end_time": "2025-01-16T04:31:02.537895Z",
     "start_time": "2025-01-16T04:31:02.534975Z"
    }
   },
   "source": [
    "from openai import OpenAI\n",
    "from datetime import datetime\n",
    "from llmfactor import LLMFactorAnalyzer, LoggerSingleton\n",
    "from pandas import Timestamp"
   ],
   "outputs": [],
   "execution_count": 37
  },
  {
   "cell_type": "code",
   "id": "c7e14b3f-5758-41b1-aa31-db04ee08755e",
   "metadata": {
    "ExecuteTime": {
     "end_time": "2025-01-16T04:31:02.559955Z",
     "start_time": "2025-01-16T04:31:02.541648Z"
    }
   },
   "source": [
    "client = OpenAI(\n",
    "    base_url=\"http://localhost:8080/v1\",\n",
    "    api_key=\"token-abc123\",\n",
    ")"
   ],
   "outputs": [],
   "execution_count": 38
  },
  {
   "cell_type": "code",
   "id": "eb1a5125-7776-45e4-84f2-1b6d0bb3000d",
   "metadata": {
    "ExecuteTime": {
     "end_time": "2025-01-16T04:31:02.592510Z",
     "start_time": "2025-01-16T04:31:02.566881Z"
    }
   },
   "source": [
    "analyzer = LLMFactorAnalyzer(\n",
    "    base_url=\"http://localhost:8080/v1\",\n",
    "    api_key=\"token-abc123\",\n",
    "    model=\"./models/llama-3.1-8B-instruct-Q8_0.gguf\",\n",
    "    logger=LoggerSingleton.get_logger())"
   ],
   "outputs": [],
   "execution_count": 39
  },
  {
   "cell_type": "code",
   "id": "8a957cc2-be2e-4303-b8c1-88c6f9ca9cfd",
   "metadata": {
    "ExecuteTime": {
     "end_time": "2025-01-16T04:31:02.956566Z",
     "start_time": "2025-01-16T04:31:02.599646Z"
    }
   },
   "source": [
    "tickers = analyzer.get_available_tickers()\n",
    "ticker = tickers[0]\n",
    "stock_target = ticker\n",
    "\n",
    "factor_k = 5\n",
    "price_k = 5\n",
    "\n",
    "dates = analyzer.get_available_dates(ticker, price_k)\n",
    "target_date = dates[1]\n",
    "\n",
    "news_str = analyzer.news_data.get_news_by_date(ticker, target_date)\n",
    "price_movements = analyzer.price_data.get_price_movements(ticker, target_date, price_k)\n",
    "price_str, price_str_last = analyzer.format_price_movements(price_movements, ticker, target_date)\n",
    "print(price_str + price_str_last)\n",
    "print(*price_movements, sep=\"\\n\")"
   ],
   "outputs": [
    {
     "name": "stdout",
     "output_type": "stream",
     "text": [
      "On 2018-01-04, the stock price of AAPL rose.\n",
      "On 2018-01-05, the stock price of AAPL rose.\n",
      "On 2018-01-08, the stock price of AAPL fell.\n",
      "On 2018-01-09, the stock price of AAPL fell.\n",
      "On 2018-01-10, the stock price of AAPL\n",
      "{'date': Timestamp('2018-01-04 00:00:00'), 'rise': True}\n",
      "{'date': Timestamp('2018-01-05 00:00:00'), 'rise': True}\n",
      "{'date': Timestamp('2018-01-08 00:00:00'), 'rise': False}\n",
      "{'date': Timestamp('2018-01-09 00:00:00'), 'rise': False}\n",
      "{'date': Timestamp('2018-01-10 00:00:00'), 'rise': False}\n"
     ]
    }
   ],
   "execution_count": 40
  },
  {
   "cell_type": "code",
   "id": "9f09bcd5-d1a1-446c-9d07-a1a2216205c1",
   "metadata": {
    "ExecuteTime": {
     "end_time": "2025-01-16T04:31:06.314351Z",
     "start_time": "2025-01-16T04:31:02.962997Z"
    }
   },
   "source": [
    "factor_extraction = client.chat.completions.create(\n",
    "    model=analyzer.model,\n",
    "    temperature=0,\n",
    "    max_tokens=factor_k * 200,\n",
    "    messages=[\n",
    "        {\"role\": \"system\", \"content\": f\"Please extract the top {factor_k} factors that may affect the stock price of {ticker} from the following news.\"},\n",
    "        {\"role\": \"user\", \"content\": news_str},\n",
    "        {\"role\": \"assistant\", \"content\": f\"The following are the main {factor_k} factors that may affect {ticker}’s stock price recently:\"}\n",
    "    ])\n",
    "\n",
    "factor_str = factor_extraction.choices[0].message.content\n",
    "print(factor_str)"
   ],
   "outputs": [
    {
     "name": "stdout",
     "output_type": "stream",
     "text": [
      "Based on the text, the main 5 factors that may affect AAPL's stock price recently are:\n",
      "\n",
      "1. **Shazam Acquisition**: Apple's acquisition of Shazam, a music recognition app, may impact its services business and revenue growth.\n",
      "2. **iPhone Slowdown Controversy**: Apple's admission of deliberately slowing down older iPhones to prevent battery issues has sparked controversy and raised questions about the company's transparency.\n",
      "3. **Jimmy Iovine's Departure Rumors**: Rumors that Jimmy Iovine, Apple Music's executive, plans to leave the company have been denied by Iovine himself, but may still impact investor confidence.\n",
      "4. **Qualcomm's Semiconductor Market Share**: Qualcomm's challenges in its technology licensing business may impact Apple's reliance on the company's semiconductor operations.\n",
      "5. **Repatriation of Cash**: Apple's plans for its repatriated cash, which may be used for share buybacks, dividends, or other investments, may impact its stock price.\n",
      "\n",
      "These factors may have a significant impact on AAPL's stock price and are worth monitoring for investors.\n"
     ]
    }
   ],
   "execution_count": 41
  },
  {
   "metadata": {
    "ExecuteTime": {
     "end_time": "2025-01-16T04:31:06.323475Z",
     "start_time": "2025-01-16T04:31:06.321119Z"
    }
   },
   "cell_type": "code",
   "source": [
    "# factor_str = analyzer.opposite_meaning_factors(factor_str)\n",
    "# print(factor_str)"
   ],
   "id": "1aac13f0cf3d6326",
   "outputs": [],
   "execution_count": 42
  },
  {
   "metadata": {
    "ExecuteTime": {
     "end_time": "2025-01-16T04:31:22.555989Z",
     "start_time": "2025-01-16T04:31:19.959124Z"
    }
   },
   "cell_type": "code",
   "source": [
    "answer_extraction = client.chat.completions.create(\n",
    "    model=analyzer.model,\n",
    "    temperature=0,\n",
    "    messages=[\n",
    "        {\"role\": \"system\", \"content\": \"Based on the following information, please judge the direction of the stock price from rise/fall, fill in the blank and give reasons.\"},\n",
    "        {\"role\": \"system\", \"content\": f\"These are the main factors that may affect this stock’s price recently: {factor_str}.\"},\n",
    "        {\"role\": \"system\", \"content\": price_str},\n",
    "        {\"role\": \"assistant\", \"content\": price_str_last},\n",
    "    ]\n",
    ")\n",
    "\n",
    "answer = answer_extraction.choices[0].message.content\n",
    "print(answer)"
   ],
   "id": "acc69ced8459f3d8",
   "outputs": [
    {
     "name": "stdout",
     "output_type": "stream",
     "text": [
      "Based on the information provided, I would predict that the stock price of AAPL on 2018-01-10 will **rise**.\n",
      "\n",
      "My reasoning is as follows:\n",
      "\n",
      "* The controversy surrounding the iPhone slowdown has already been reported and may have had its impact on the stock price.\n",
      "* The departure rumors of Jimmy Iovine have been denied, which may have alleviated some concerns.\n",
      "* Qualcomm's challenges in its technology licensing business may have a longer-term impact, but it's unclear how this will affect Apple's stock price in the short term.\n",
      "* The repatriation of cash is a positive development for Apple, which may lead to increased investor confidence and a rise in the stock price.\n",
      "\n",
      "Overall, while there are still some uncertainties surrounding Apple's stock price, the positive news about the repatriation of cash may outweigh the negative factors, leading to a rise in the stock price on 2018-01-10.\n"
     ]
    }
   ],
   "execution_count": 44
  }
 ],
 "metadata": {
  "kernelspec": {
   "display_name": "Python 3 (ipykernel)",
   "language": "python",
   "name": "python3"
  },
  "language_info": {
   "codemirror_mode": {
    "name": "ipython",
    "version": 3
   },
   "file_extension": ".py",
   "mimetype": "text/x-python",
   "name": "python",
   "nbconvert_exporter": "python",
   "pygments_lexer": "ipython3",
   "version": "3.12.8"
  }
 },
 "nbformat": 4,
 "nbformat_minor": 5
}
