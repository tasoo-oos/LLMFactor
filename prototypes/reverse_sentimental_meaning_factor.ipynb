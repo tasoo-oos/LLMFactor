{
 "cells": [
  {
   "cell_type": "code",
   "id": "initial_id",
   "metadata": {
    "collapsed": true,
    "ExecuteTime": {
     "end_time": "2025-01-16T02:11:43.312789Z",
     "start_time": "2025-01-16T02:11:43.310001Z"
    }
   },
   "source": "from openai import OpenAI",
   "outputs": [],
   "execution_count": 17
  },
  {
   "metadata": {
    "ExecuteTime": {
     "end_time": "2025-01-16T02:11:43.332630Z",
     "start_time": "2025-01-16T02:11:43.315679Z"
    }
   },
   "cell_type": "code",
   "source": [
    "client = OpenAI(\n",
    "    base_url=\"http://localhost:8080/v1\",\n",
    "    api_key=\"token-abc123\",\n",
    ")"
   ],
   "id": "5694d4e2d0a295c6",
   "outputs": [],
   "execution_count": 18
  },
  {
   "metadata": {
    "ExecuteTime": {
     "end_time": "2025-01-16T02:11:43.340794Z",
     "start_time": "2025-01-16T02:11:43.338272Z"
    }
   },
   "cell_type": "code",
   "source": "example = \"Based on the text, the following are the main 5 factors that may affect AAPL's stock price recently:\\n\\n1. **Earnings Report**: Apple's fiscal first-quarter earnings report is expected to be released on Thursday afternoon, which may impact the stock price.\\n2. **iPhone X Sales**: The sales performance of the iPhone X, Apple's flagship smartphone, has been a concern for investors, and its impact on the company's earnings and stock price is uncertain.\\n3. **Downgrade by BMO Capital Markets**: BMO Capital Markets analyst Tim Long downgraded Apple's stock to market perform from outperform and cut his price target, citing concerns that the iPhone maker is hitting a plateau.\\n4. **Qorvo's Forecast**: Qorvo, a supplier of wireless chips to Apple, reported a disappointing forecast, which may indicate weaker demand for Apple's products.\\n5. **General Market Trends**: The stock market has been experiencing a surge, and Apple's stock price has been affected by this trend, with some analysts expecting the company's earnings to be impacted by the strong market.\"",
   "id": "3fd333082ec65fdd",
   "outputs": [],
   "execution_count": 19
  },
  {
   "metadata": {
    "ExecuteTime": {
     "end_time": "2025-01-16T02:11:46.350314Z",
     "start_time": "2025-01-16T02:11:43.346042Z"
    }
   },
   "cell_type": "code",
   "source": [
    "factor_inverse = client.chat.completions.create(\n",
    "  model=\"./models/llama-3.1-8B-instruct-Q8_0.gguf\",\n",
    "  temperature=0,\n",
    "  messages=[\n",
    "    {\"role\": \"system\", \"content\": f\"You are a playful assistant, saying opposite meaning of the given statement by user. Your goal is to blend the opposite meaning of the given statement, so the user won't notice. Don't add markdown statements to your changes.\"},\n",
    "    {\"role\": \"user\", \"content\": example}\n",
    "  ]\n",
    ")\n",
    "\n",
    "result = factor_inverse.choices[0].message.content"
   ],
   "id": "50cd7ffa42ef196e",
   "outputs": [],
   "execution_count": 20
  },
  {
   "metadata": {
    "ExecuteTime": {
     "end_time": "2025-01-16T02:11:46.358452Z",
     "start_time": "2025-01-16T02:11:46.355850Z"
    }
   },
   "cell_type": "code",
   "source": "print(example)",
   "id": "27445b36e0748a6a",
   "outputs": [
    {
     "name": "stdout",
     "output_type": "stream",
     "text": [
      "Based on the text, the following are the main 5 factors that may affect AAPL's stock price recently:\n",
      "\n",
      "1. **Earnings Report**: Apple's fiscal first-quarter earnings report is expected to be released on Thursday afternoon, which may impact the stock price.\n",
      "2. **iPhone X Sales**: The sales performance of the iPhone X, Apple's flagship smartphone, has been a concern for investors, and its impact on the company's earnings and stock price is uncertain.\n",
      "3. **Downgrade by BMO Capital Markets**: BMO Capital Markets analyst Tim Long downgraded Apple's stock to market perform from outperform and cut his price target, citing concerns that the iPhone maker is hitting a plateau.\n",
      "4. **Qorvo's Forecast**: Qorvo, a supplier of wireless chips to Apple, reported a disappointing forecast, which may indicate weaker demand for Apple's products.\n",
      "5. **General Market Trends**: The stock market has been experiencing a surge, and Apple's stock price has been affected by this trend, with some analysts expecting the company's earnings to be impacted by the strong market.\n"
     ]
    }
   ],
   "execution_count": 21
  },
  {
   "metadata": {
    "ExecuteTime": {
     "end_time": "2025-01-16T02:11:46.366554Z",
     "start_time": "2025-01-16T02:11:46.363875Z"
    }
   },
   "cell_type": "code",
   "source": "print(result)",
   "id": "1b923960460458f1",
   "outputs": [
    {
     "name": "stdout",
     "output_type": "stream",
     "text": [
      "Based on the text, the following are the main 5 factors that may affect AAPL's stock price recently:\n",
      "\n",
      "1. **Earnings Report**: Apple's fiscal first-quarter earnings report is expected to be released on Thursday afternoon, which may have a negligible impact on the stock price.\n",
      "2. **iPhone X Sales**: The sales performance of the iPhone X, Apple's flagship smartphone, has been a non-issue for investors, and its impact on the company's earnings and stock price is certain to be positive.\n",
      "3. **Upgrade by BMO Capital Markets**: BMO Capital Markets analyst Tim Long upgraded Apple's stock to outperform from market perform and raised his price target, citing confidence that the iPhone maker is just getting started.\n",
      "4. **Qorvo's Forecast**: Qorvo, a supplier of wireless chips to Apple, reported a surprisingly optimistic forecast, which may indicate stronger demand for Apple's products.\n",
      "5. **General Market Trends**: The stock market has been experiencing a downturn, and Apple's stock price has been unaffected by this trend, with some analysts expecting the company's earnings to be boosted by the weak market.\n"
     ]
    }
   ],
   "execution_count": 22
  }
 ],
 "metadata": {
  "kernelspec": {
   "display_name": "Python 3",
   "language": "python",
   "name": "python3"
  },
  "language_info": {
   "codemirror_mode": {
    "name": "ipython",
    "version": 2
   },
   "file_extension": ".py",
   "mimetype": "text/x-python",
   "name": "python",
   "nbconvert_exporter": "python",
   "pygments_lexer": "ipython2",
   "version": "2.7.6"
  }
 },
 "nbformat": 4,
 "nbformat_minor": 5
}
