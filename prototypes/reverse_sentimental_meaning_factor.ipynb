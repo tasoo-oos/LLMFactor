{
 "cells": [
  {
   "cell_type": "code",
   "id": "initial_id",
   "metadata": {
    "collapsed": true,
    "ExecuteTime": {
     "end_time": "2025-01-16T06:51:39.392227Z",
     "start_time": "2025-01-16T06:51:39.389501Z"
    }
   },
   "source": "from openai import OpenAI",
   "outputs": [],
   "execution_count": 30
  },
  {
   "metadata": {
    "ExecuteTime": {
     "end_time": "2025-01-16T06:51:39.413535Z",
     "start_time": "2025-01-16T06:51:39.395603Z"
    }
   },
   "cell_type": "code",
   "source": [
    "client = OpenAI(\n",
    "    base_url=\"http://localhost:8080/v1\",\n",
    "    api_key=\"token-abc123\",\n",
    ")"
   ],
   "id": "5694d4e2d0a295c6",
   "outputs": [],
   "execution_count": 31
  },
  {
   "metadata": {
    "ExecuteTime": {
     "end_time": "2025-01-16T06:51:39.422063Z",
     "start_time": "2025-01-16T06:51:39.419368Z"
    }
   },
   "cell_type": "code",
   "source": "example = \"Based on the news articles provided, the top 5 factors that may affect AAPL's stock price are:\\n\\n1. **Japan Display's financial troubles**: Apple's investment in Japan Display, a supplier of screens for the iPhone 11, has been affected by the company's financial troubles. This may impact Apple's ability to produce iPhones and potentially affect its stock price.\\n2. **Shift to services and valuation**: Apple's shift to services, including its Apple TV+ streaming service, may not be good news for its stock price, as its valuation is not attractive compared to other large services companies. Apple will need to increase its profit to drive the stock up.\\n3. **Competition from other tech companies**: Apple's plans to release films in theaters before streaming them on its Apple TV+ service may be a response to competition from other tech companies, such as Netflix and Disney. This may impact Apple's stock price as it competes for market share in the streaming industry.\\n4. **Trade war concerns**: The ongoing trade war between the US and China may continue to affect Apple's stock price, as the company relies heavily on Chinese manufacturing and exports.\\n5. **Regulatory scrutiny**: Apple's growing presence in the tech industry may attract regulatory scrutiny, which could impact its stock price. The company is already facing investigations and antitrust probes, which may affect its business and stock price.\"",
   "id": "3fd333082ec65fdd",
   "outputs": [],
   "execution_count": 32
  },
  {
   "metadata": {
    "ExecuteTime": {
     "end_time": "2025-01-16T06:51:43.026053Z",
     "start_time": "2025-01-16T06:51:39.427844Z"
    }
   },
   "cell_type": "code",
   "source": [
    "factor_inverse = client.chat.completions.create(\n",
    "  model=\"./models/llama-3.1-8B-instruct-Q8_0.gguf\",\n",
    "  temperature=0,\n",
    "  messages=[\n",
    "    {\"role\": \"system\", \"content\": f\"You are a playful assistant, saying opposite meaning of the given statement by user. Your goal is to blend the opposite meaning of the given statement, so the user won't notice. Don't add markdown statements to your changes.\"},\n",
    "    {\"role\": \"user\", \"content\": example}\n",
    "  ]\n",
    ")\n",
    "\n",
    "result = factor_inverse.choices[0].message.content"
   ],
   "id": "50cd7ffa42ef196e",
   "outputs": [],
   "execution_count": 33
  },
  {
   "metadata": {
    "ExecuteTime": {
     "end_time": "2025-01-16T06:51:43.034587Z",
     "start_time": "2025-01-16T06:51:43.032050Z"
    }
   },
   "cell_type": "code",
   "source": "print(example)",
   "id": "27445b36e0748a6a",
   "outputs": [
    {
     "name": "stdout",
     "output_type": "stream",
     "text": [
      "Based on the news articles provided, the top 5 factors that may affect AAPL's stock price are:\n",
      "\n",
      "1. **Japan Display's financial troubles**: Apple's investment in Japan Display, a supplier of screens for the iPhone 11, has been affected by the company's financial troubles. This may impact Apple's ability to produce iPhones and potentially affect its stock price.\n",
      "2. **Shift to services and valuation**: Apple's shift to services, including its Apple TV+ streaming service, may not be good news for its stock price, as its valuation is not attractive compared to other large services companies. Apple will need to increase its profit to drive the stock up.\n",
      "3. **Competition from other tech companies**: Apple's plans to release films in theaters before streaming them on its Apple TV+ service may be a response to competition from other tech companies, such as Netflix and Disney. This may impact Apple's stock price as it competes for market share in the streaming industry.\n",
      "4. **Trade war concerns**: The ongoing trade war between the US and China may continue to affect Apple's stock price, as the company relies heavily on Chinese manufacturing and exports.\n",
      "5. **Regulatory scrutiny**: Apple's growing presence in the tech industry may attract regulatory scrutiny, which could impact its stock price. The company is already facing investigations and antitrust probes, which may affect its business and stock price.\n"
     ]
    }
   ],
   "execution_count": 34
  },
  {
   "metadata": {
    "ExecuteTime": {
     "end_time": "2025-01-16T06:51:43.042848Z",
     "start_time": "2025-01-16T06:51:43.040256Z"
    }
   },
   "cell_type": "code",
   "source": "print(result)",
   "id": "1b923960460458f1",
   "outputs": [
    {
     "name": "stdout",
     "output_type": "stream",
     "text": [
      "Based on the news articles provided, the top 5 factors that may affect AAPL's stock price are:\n",
      "\n",
      "1. **Japan Display's financial stability**: Apple's investment in Japan Display, a supplier of screens for the iPhone 11, has been bolstered by the company's financial stability. This may positively impact Apple's ability to produce iPhones and potentially boost its stock price.\n",
      "2. **Shift to services and valuation**: Apple's shift to services, including its Apple TV+ streaming service, is great news for its stock price, as its valuation is attractive compared to other large services companies. Apple's increasing profit will drive the stock up.\n",
      "3. **Lack of competition from other tech companies**: Apple's plans to release films in theaters before streaming them on its Apple TV+ service may be a response to a lack of competition from other tech companies, such as Netflix and Disney. This may positively impact Apple's stock price as it dominates the streaming industry.\n",
      "4. **Trade war resolution**: The ongoing trade war between the US and China may soon be resolved, which will positively affect Apple's stock price, as the company relies heavily on Chinese manufacturing and exports.\n",
      "5. **Regulatory approval**: Apple's growing presence in the tech industry may attract regulatory approval, which could positively impact its stock price. The company is already receiving praise and endorsements from regulatory bodies, which may boost its business and stock price.\n"
     ]
    }
   ],
   "execution_count": 35
  }
 ],
 "metadata": {
  "kernelspec": {
   "display_name": "Python 3",
   "language": "python",
   "name": "python3"
  },
  "language_info": {
   "codemirror_mode": {
    "name": "ipython",
    "version": 2
   },
   "file_extension": ".py",
   "mimetype": "text/x-python",
   "name": "python",
   "nbconvert_exporter": "python",
   "pygments_lexer": "ipython2",
   "version": "2.7.6"
  }
 },
 "nbformat": 4,
 "nbformat_minor": 5
}
